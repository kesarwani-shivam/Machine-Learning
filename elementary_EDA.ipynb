{
  "nbformat": 4,
  "nbformat_minor": 0,
  "metadata": {
    "colab": {
      "name": "elementary EDA.ipynb",
      "provenance": [],
      "collapsed_sections": [],
      "toc_visible": true,
      "include_colab_link": true
    },
    "kernelspec": {
      "name": "python3",
      "display_name": "Python 3"
    }
  },
  "cells": [
    {
      "cell_type": "markdown",
      "metadata": {
        "id": "view-in-github",
        "colab_type": "text"
      },
      "source": [
        "<a href=\"https://colab.research.google.com/github/kesarwani-shivam/Machine-Learning/blob/master/elementary_EDA.ipynb\" target=\"_parent\"><img src=\"https://colab.research.google.com/assets/colab-badge.svg\" alt=\"Open In Colab\"/></a>"
      ]
    },
    {
      "cell_type": "markdown",
      "metadata": {
        "id": "B78obbb1XrNT",
        "colab_type": "text"
      },
      "source": [
        "# Exploratory Data Analysis: Assignment"
      ]
    },
    {
      "cell_type": "markdown",
      "metadata": {
        "id": "T5n3_2ImYg-3",
        "colab_type": "text"
      },
      "source": [
        "## Describing the dataset\n",
        "\n",
        "\n"
      ]
    },
    {
      "cell_type": "markdown",
      "metadata": {
        "id": "kQdOQHbzapg0",
        "colab_type": "text"
      },
      "source": [
        "### <strong> Dataset </strong>\n",
        "Haberman's Survival Data\n",
        "\n",
        "### <strong> Description </strong>\n",
        "The dataset contains cases from a study that was conducted between 1958 and 1970 at the University of Chicago’s Billings Hospital on the survival of patients who had undergone surgery for breast cancer.\n",
        "\n",
        "### <strong> Attribute Information </strong>\n",
        "*Column 1*: Age of patient at the time of operation (numerical) <br>\n",
        "*Column 2*: Patient's year of operation (year 1900 - numerical)<br>\n",
        "*Column 3*: Number of positive axillary nodes detected (numerical)<br>\n",
        "*Column 4*: Survival status (class attribute)<br>\n",
        "1 = the patient survived 5 years or longer<br>\n",
        "2 = the patient died within 5 years"
      ]
    },
    {
      "cell_type": "markdown",
      "metadata": {
        "id": "fujZvpI8cShA",
        "colab_type": "text"
      },
      "source": [
        "## Loading the dataset"
      ]
    },
    {
      "cell_type": "code",
      "metadata": {
        "id": "73Ot_Nd0V_hN",
        "colab_type": "code",
        "colab": {}
      },
      "source": [
        "import pandas as pd\n",
        "import seaborn as sns\n",
        "import matplotlib.pyplot as plt\n",
        "import numpy as np\n",
        "plt.rcParams.update({'font.size': 16})\n",
        "\n",
        "'''IMPORTANT'''\n",
        "'''download haberman.csv from the classroom and upload the dataset in the content file in the left pane of the colab'''\n",
        "#Load haberman.csv into a pandas dataFrame.\n",
        "data = pd.read_csv(\"haberman.csv\")"
      ],
      "execution_count": null,
      "outputs": []
    },
    {
      "cell_type": "markdown",
      "metadata": {
        "id": "wdBf1iXMc0DV",
        "colab_type": "text"
      },
      "source": [
        "## PART 1: Understanding the dataset"
      ]
    },
    {
      "cell_type": "markdown",
      "metadata": {
        "id": "SWgNa2iuc9IZ",
        "colab_type": "text"
      },
      "source": [
        "### Ques 1.1: Print the first 5 entries from the csv file\n",
        "### Expected Output\n",
        "<img src=\"https://drive.google.com/uc?id=1RykxjaDb8TZRM554d0D7fXQOeYAIfWMe\">"
      ]
    },
    {
      "cell_type": "code",
      "metadata": {
        "id": "F7_Bdv_hXXYj",
        "colab_type": "code",
        "colab": {
          "base_uri": "https://localhost:8080/",
          "height": 197
        },
        "outputId": "d34b657a-79d2-4429-cdb6-61e762da2501"
      },
      "source": [
        "# write your code here\n",
        "data.head(5)"
      ],
      "execution_count": null,
      "outputs": [
        {
          "output_type": "execute_result",
          "data": {
            "text/html": [
              "<div>\n",
              "<style scoped>\n",
              "    .dataframe tbody tr th:only-of-type {\n",
              "        vertical-align: middle;\n",
              "    }\n",
              "\n",
              "    .dataframe tbody tr th {\n",
              "        vertical-align: top;\n",
              "    }\n",
              "\n",
              "    .dataframe thead th {\n",
              "        text-align: right;\n",
              "    }\n",
              "</style>\n",
              "<table border=\"1\" class=\"dataframe\">\n",
              "  <thead>\n",
              "    <tr style=\"text-align: right;\">\n",
              "      <th></th>\n",
              "      <th>age</th>\n",
              "      <th>year</th>\n",
              "      <th>nodes</th>\n",
              "      <th>status</th>\n",
              "    </tr>\n",
              "  </thead>\n",
              "  <tbody>\n",
              "    <tr>\n",
              "      <th>0</th>\n",
              "      <td>30</td>\n",
              "      <td>64</td>\n",
              "      <td>1</td>\n",
              "      <td>1</td>\n",
              "    </tr>\n",
              "    <tr>\n",
              "      <th>1</th>\n",
              "      <td>30</td>\n",
              "      <td>62</td>\n",
              "      <td>3</td>\n",
              "      <td>1</td>\n",
              "    </tr>\n",
              "    <tr>\n",
              "      <th>2</th>\n",
              "      <td>30</td>\n",
              "      <td>65</td>\n",
              "      <td>0</td>\n",
              "      <td>1</td>\n",
              "    </tr>\n",
              "    <tr>\n",
              "      <th>3</th>\n",
              "      <td>31</td>\n",
              "      <td>59</td>\n",
              "      <td>2</td>\n",
              "      <td>1</td>\n",
              "    </tr>\n",
              "    <tr>\n",
              "      <th>4</th>\n",
              "      <td>31</td>\n",
              "      <td>65</td>\n",
              "      <td>4</td>\n",
              "      <td>1</td>\n",
              "    </tr>\n",
              "  </tbody>\n",
              "</table>\n",
              "</div>"
            ],
            "text/plain": [
              "   age  year  nodes  status\n",
              "0   30    64      1       1\n",
              "1   30    62      3       1\n",
              "2   30    65      0       1\n",
              "3   31    59      2       1\n",
              "4   31    65      4       1"
            ]
          },
          "metadata": {
            "tags": []
          },
          "execution_count": 13
        }
      ]
    },
    {
      "cell_type": "markdown",
      "metadata": {
        "id": "Bj_edvjXdSAl",
        "colab_type": "text"
      },
      "source": [
        "### Ques 1.2: How many data-points and features does the dataset have?\n",
        "### Expected Output :\n",
        "<img src=\"https://drive.google.com/uc?id=1MXevQfx6TPR-2bNdm-Vfjo6Nnk3ioz60\">"
      ]
    },
    {
      "cell_type": "code",
      "metadata": {
        "id": "IDVzr9seXbIA",
        "colab_type": "code",
        "colab": {
          "base_uri": "https://localhost:8080/",
          "height": 34
        },
        "outputId": "9a255ca8-3b6e-4e8a-edcd-d96ec299770e"
      },
      "source": [
        "# write your code here\n",
        "data.shape"
      ],
      "execution_count": null,
      "outputs": [
        {
          "output_type": "execute_result",
          "data": {
            "text/plain": [
              "(306, 4)"
            ]
          },
          "metadata": {
            "tags": []
          },
          "execution_count": 14
        }
      ]
    },
    {
      "cell_type": "markdown",
      "metadata": {
        "id": "yDKtFuRgdqPO",
        "colab_type": "text"
      },
      "source": [
        "### Ques 1.3: What are the column names in our dataset?\n",
        "### Expected Output:\n",
        "<img src=\"https://drive.google.com/uc?id=14BKdYffLHcMjjkCECWu__Y7z0CYTuKgm\">"
      ]
    },
    {
      "cell_type": "code",
      "metadata": {
        "id": "S7MTCJ4TdnB0",
        "colab_type": "code",
        "colab": {
          "base_uri": "https://localhost:8080/",
          "height": 34
        },
        "outputId": "bab72879-8bde-4df7-b7e2-77f6b70a7fd2"
      },
      "source": [
        "# write your code here\n",
        "data.columns"
      ],
      "execution_count": null,
      "outputs": [
        {
          "output_type": "execute_result",
          "data": {
            "text/plain": [
              "Index(['age', 'year', 'nodes', 'status'], dtype='object')"
            ]
          },
          "metadata": {
            "tags": []
          },
          "execution_count": 16
        }
      ]
    },
    {
      "cell_type": "markdown",
      "metadata": {
        "id": "YQmcaL0zd2G4",
        "colab_type": "text"
      },
      "source": [
        "### Ques 1.4: How many data-points for each class of column 'status' are present?\n",
        "### Expected Output:\n",
        "<img src=\"https://drive.google.com/uc?id=1K-J_wAXFeKCKNPJ4gX11QJZUhcJzAmk5\">"
      ]
    },
    {
      "cell_type": "code",
      "metadata": {
        "id": "cepR6L6wd1Tm",
        "colab_type": "code",
        "colab": {
          "base_uri": "https://localhost:8080/",
          "height": 292
        },
        "outputId": "53bae4d3-5503-4d60-b117-bdcf850d3ac3"
      },
      "source": [
        "# write your code here\n",
        "data.value_count()"
      ],
      "execution_count": null,
      "outputs": [
        {
          "output_type": "error",
          "ename": "AttributeError",
          "evalue": "ignored",
          "traceback": [
            "\u001b[0;31m---------------------------------------------------------------------------\u001b[0m",
            "\u001b[0;31mAttributeError\u001b[0m                            Traceback (most recent call last)",
            "\u001b[0;32m<ipython-input-18-bf1b8ab71131>\u001b[0m in \u001b[0;36m<module>\u001b[0;34m()\u001b[0m\n\u001b[0;32m----> 1\u001b[0;31m \u001b[0mdata\u001b[0m\u001b[0;34m.\u001b[0m\u001b[0mvalue_count\u001b[0m\u001b[0;34m(\u001b[0m\u001b[0;34m)\u001b[0m\u001b[0;34m\u001b[0m\u001b[0;34m\u001b[0m\u001b[0m\n\u001b[0m",
            "\u001b[0;32m/usr/local/lib/python3.6/dist-packages/pandas/core/generic.py\u001b[0m in \u001b[0;36m__getattr__\u001b[0;34m(self, name)\u001b[0m\n\u001b[1;32m   5272\u001b[0m             \u001b[0;32mif\u001b[0m \u001b[0mself\u001b[0m\u001b[0;34m.\u001b[0m\u001b[0m_info_axis\u001b[0m\u001b[0;34m.\u001b[0m\u001b[0m_can_hold_identifiers_and_holds_name\u001b[0m\u001b[0;34m(\u001b[0m\u001b[0mname\u001b[0m\u001b[0;34m)\u001b[0m\u001b[0;34m:\u001b[0m\u001b[0;34m\u001b[0m\u001b[0;34m\u001b[0m\u001b[0m\n\u001b[1;32m   5273\u001b[0m                 \u001b[0;32mreturn\u001b[0m \u001b[0mself\u001b[0m\u001b[0;34m[\u001b[0m\u001b[0mname\u001b[0m\u001b[0;34m]\u001b[0m\u001b[0;34m\u001b[0m\u001b[0;34m\u001b[0m\u001b[0m\n\u001b[0;32m-> 5274\u001b[0;31m             \u001b[0;32mreturn\u001b[0m \u001b[0mobject\u001b[0m\u001b[0;34m.\u001b[0m\u001b[0m__getattribute__\u001b[0m\u001b[0;34m(\u001b[0m\u001b[0mself\u001b[0m\u001b[0;34m,\u001b[0m \u001b[0mname\u001b[0m\u001b[0;34m)\u001b[0m\u001b[0;34m\u001b[0m\u001b[0;34m\u001b[0m\u001b[0m\n\u001b[0m\u001b[1;32m   5275\u001b[0m \u001b[0;34m\u001b[0m\u001b[0m\n\u001b[1;32m   5276\u001b[0m     \u001b[0;32mdef\u001b[0m \u001b[0m__setattr__\u001b[0m\u001b[0;34m(\u001b[0m\u001b[0mself\u001b[0m\u001b[0;34m,\u001b[0m \u001b[0mname\u001b[0m\u001b[0;34m:\u001b[0m \u001b[0mstr\u001b[0m\u001b[0;34m,\u001b[0m \u001b[0mvalue\u001b[0m\u001b[0;34m)\u001b[0m \u001b[0;34m->\u001b[0m \u001b[0;32mNone\u001b[0m\u001b[0;34m:\u001b[0m\u001b[0;34m\u001b[0m\u001b[0;34m\u001b[0m\u001b[0m\n",
            "\u001b[0;31mAttributeError\u001b[0m: 'DataFrame' object has no attribute 'value_count'"
          ]
        }
      ]
    },
    {
      "cell_type": "markdown",
      "metadata": {
        "id": "KDN5LzC9eL8s",
        "colab_type": "text"
      },
      "source": [
        "## PART 2: Scatter Plot (2-D)"
      ]
    },
    {
      "cell_type": "markdown",
      "metadata": {
        "id": "1kITczYvCS-B",
        "colab_type": "text"
      },
      "source": [
        "### Just run this code cell (Don't change anything)"
      ]
    },
    {
      "cell_type": "code",
      "metadata": {
        "id": "5IUQ_s0uCSEF",
        "colab_type": "code",
        "colab": {
          "base_uri": "https://localhost:8080/",
          "height": 288
        },
        "outputId": "a9b8f2b2-f28c-49ba-fb11-13bb39ae5cc6"
      },
      "source": [
        "# Scatter Plot without color grading\n",
        "\n",
        "data.plot(kind='scatter', x='age', y='year');\n",
        "plt.show()\n",
        "\n",
        "# OBSERVATION: Both the classes are of same color (blue) and thus cannot make much sense."
      ],
      "execution_count": null,
      "outputs": [
        {
          "output_type": "display_data",
          "data": {
            "image/png": "[encoded data removed]",
            "text/plain": [
              "<Figure size 432x288 with 1 Axes>"
            ]
          },
          "metadata": {
            "tags": []
          }
        }
      ]
    },
    {
      "cell_type": "markdown",
      "metadata": {
        "id": "jjAUabkADs0Y",
        "colab_type": "text"
      },
      "source": [
        "### Ques 2.1: Color the points by their class-label/status-type\n",
        "### Expected Output:\n",
        "<img src=\"https://drive.google.com/uc?id=1-O5pmCh8ULRFD6O93I6po00jZ4tt6L2v\">"
      ]
    },
    {
      "cell_type": "code",
      "metadata": {
        "id": "qL_U1T-ICAOt",
        "colab_type": "code",
        "colab": {
          "base_uri": "https://localhost:8080/",
          "height": 34
        },
        "outputId": "094746a5-aa3c-49f6-de3f-6baffab74792"
      },
      "source": [
        "# Write your code here\n",
        "\n",
        "'''HINT: Use hue dimension of the Grid'''"
      ],
      "execution_count": null,
      "outputs": [
        {
          "output_type": "execute_result",
          "data": {
            "text/plain": [
              "'HINT: Use hue dimension of the Grid'"
            ]
          },
          "metadata": {
            "tags": []
          },
          "execution_count": 57
        }
      ]
    },
    {
      "cell_type": "markdown",
      "metadata": {
        "id": "a2oO5YKGLMaa",
        "colab_type": "text"
      },
      "source": [
        "### Ques 2.2: Make 2 separate plots each of only 1 status-type in column dimension of the grid\n",
        "\n",
        "### Expected Output:\n",
        "<img src=\"https://drive.google.com/uc?id=1GEMTyvff7VZOp8Fb_QnF3I43cQMxPO7V\">"
      ]
    },
    {
      "cell_type": "code",
      "metadata": {
        "id": "311w5_cZIyeg",
        "colab_type": "code",
        "colab": {}
      },
      "source": [
        "# write your code here"
      ],
      "execution_count": null,
      "outputs": []
    },
    {
      "cell_type": "markdown",
      "metadata": {
        "id": "vdXDcNT6M6K4",
        "colab_type": "text"
      },
      "source": [
        "## PART 3: Pair Plots"
      ]
    },
    {
      "cell_type": "markdown",
      "metadata": {
        "id": "bobTCKHDNEyJ",
        "colab_type": "text"
      },
      "source": [
        "### Ques 3.1: Plot the pairwise scatter plot with hue dimension of the grid\n",
        "### Expected Output:\n",
        "<img src = \"https://drive.google.com/uc?id=1XXJP-HryE4fn_JMF_xF65ChQoYb-GqNV\">"
      ]
    },
    {
      "cell_type": "code",
      "metadata": {
        "id": "4nxSGvn5LvZW",
        "colab_type": "code",
        "colab": {}
      },
      "source": [
        "# write your code here"
      ],
      "execution_count": null,
      "outputs": []
    },
    {
      "cell_type": "markdown",
      "metadata": {
        "id": "sxpew-iTUz2I",
        "colab_type": "text"
      },
      "source": [
        "## PART 4: PDF and CDF"
      ]
    },
    {
      "cell_type": "markdown",
      "metadata": {
        "id": "KSxFvkfxX9Q4",
        "colab_type": "text"
      },
      "source": [
        "### Ques 4.1: Show the density plot with respect to the 'year' feature in 'row dimension' of the grid. \n",
        "### Expected Output:\n",
        "<img src = \"https://drive.google.com/uc?id=1ixzZtvNljsAUJtVrflbjQnD3ZfSulpl9\">"
      ]
    },
    {
      "cell_type": "code",
      "metadata": {
        "id": "i7kekc7DYgPh",
        "colab_type": "code",
        "colab": {}
      },
      "source": [
        "# write your code here"
      ],
      "execution_count": null,
      "outputs": []
    },
    {
      "cell_type": "markdown",
      "metadata": {
        "id": "MgMoz9eJY_xh",
        "colab_type": "text"
      },
      "source": [
        "### Ques 4.2: Plot the CDF and PDF of 'age'.\n",
        "### Expected Output:\n",
        "<img src = \"https://drive.google.com/uc?id=1xoxJnLVewz5BKbcc9W_6bp2lipCAalR1\">"
      ]
    },
    {
      "cell_type": "code",
      "metadata": {
        "id": "mACjWCQxh__8",
        "colab_type": "code",
        "colab": {}
      },
      "source": [
        "# Write your code here"
      ],
      "execution_count": null,
      "outputs": []
    },
    {
      "cell_type": "markdown",
      "metadata": {
        "id": "aSNIl7yNcGu7",
        "colab_type": "text"
      },
      "source": [
        "### Ques 4.3: What percentage of people who died were less than 55 years old.\n",
        "### Expected Output:\n",
        "<img src = \"https://drive.google.com/uc?id=1sj53wEkl4-ZLKYTOr3qcGUFoLcE1sqz2\">"
      ]
    },
    {
      "cell_type": "code",
      "metadata": {
        "id": "zFVuBioFhCPM",
        "colab_type": "code",
        "colab": {}
      },
      "source": [
        "# write your code here\n"
      ],
      "execution_count": null,
      "outputs": []
    }
  ]
}